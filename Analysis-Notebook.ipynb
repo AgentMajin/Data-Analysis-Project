{
 "cells": [
  {
   "cell_type": "markdown",
   "metadata": {},
   "source": [
    "# Data Analysis Project: Ecommerce Customer Behaviour"
   ]
  },
  {
   "cell_type": "markdown",
   "metadata": {},
   "source": [
    "## Data Overview"
   ]
  },
  {
   "cell_type": "markdown",
   "metadata": {},
   "source": [
    "<b> Calling libraries"
   ]
  },
  {
   "cell_type": "code",
   "execution_count": 9,
   "metadata": {},
   "outputs": [],
   "source": [
    "import pandas as pd\n",
    "import numpy as np\n",
    "import plotly.express as px\n",
    "import matplotlib.pyplot as plt\n",
    "import sklearn.preprocessing \n",
    "import seaborn as sns\n",
    "import kaggle\n",
    "from zipfile import ZipFile"
   ]
  },
  {
   "cell_type": "code",
   "execution_count": 11,
   "metadata": {},
   "outputs": [
    {
     "name": "stdout",
     "output_type": "stream",
     "text": [
      "Downloading e-commerce-customer-for-behavior-analysis.zip to d:\\P.Truong\\Download\\Data Analysis Project\\Data-Analysis-Project\n",
      "\n"
     ]
    },
    {
     "name": "stderr",
     "output_type": "stream",
     "text": [
      "\n",
      "  0%|          | 0.00/9.94M [00:00<?, ?B/s]\n",
      " 10%|█         | 1.00M/9.94M [00:00<00:07, 1.19MB/s]\n",
      " 20%|██        | 2.00M/9.94M [00:01<00:03, 2.22MB/s]\n",
      " 30%|███       | 3.00M/9.94M [00:01<00:02, 3.05MB/s]\n",
      " 40%|████      | 4.00M/9.94M [00:01<00:01, 3.88MB/s]\n",
      " 50%|█████     | 5.00M/9.94M [00:01<00:01, 4.47MB/s]\n",
      " 60%|██████    | 6.00M/9.94M [00:01<00:00, 4.63MB/s]\n",
      " 70%|███████   | 7.00M/9.94M [00:01<00:00, 5.06MB/s]\n",
      " 80%|████████  | 8.00M/9.94M [00:02<00:00, 5.08MB/s]\n",
      " 91%|█████████ | 9.00M/9.94M [00:02<00:00, 5.03MB/s]\n",
      "100%|██████████| 9.94M/9.94M [00:02<00:00, 5.00MB/s]\n",
      "100%|██████████| 9.94M/9.94M [00:02<00:00, 4.03MB/s]\n"
     ]
    }
   ],
   "source": [
    "!kaggle datasets download -d shriyashjagtap/e-commerce-customer-for-behavior-analysis"
   ]
  },
  {
   "cell_type": "code",
   "execution_count": null,
   "metadata": {},
   "outputs": [],
   "source": []
  }
 ],
 "metadata": {
  "kernelspec": {
   "display_name": "base",
   "language": "python",
   "name": "python3"
  },
  "language_info": {
   "codemirror_mode": {
    "name": "ipython",
    "version": 3
   },
   "file_extension": ".py",
   "mimetype": "text/x-python",
   "name": "python",
   "nbconvert_exporter": "python",
   "pygments_lexer": "ipython3",
   "version": "3.10.9"
  },
  "orig_nbformat": 4
 },
 "nbformat": 4,
 "nbformat_minor": 2
}
